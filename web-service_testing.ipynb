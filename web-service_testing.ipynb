{
 "cells": [
  {
   "attachments": {},
   "cell_type": "markdown",
   "metadata": {},
   "source": [
    "# Test Suite Setup"
   ]
  },
  {
   "cell_type": "code",
   "execution_count": 128,
   "metadata": {},
   "outputs": [],
   "source": [
    "import requests"
   ]
  },
  {
   "cell_type": "code",
   "execution_count": 129,
   "metadata": {},
   "outputs": [],
   "source": [
    "home_url = \"http://localhost:8080/api/web-service/\"\n",
    "status_url = f\"{home_url}/status\"\n",
    "predict_url = f\"{home_url}/predict\"\n",
    "\n",
    "def make_request(url, params = {}):\n",
    "  return requests.get(url = url, params = params)\n"
   ]
  },
  {
   "cell_type": "code",
   "execution_count": 130,
   "metadata": {},
   "outputs": [],
   "source": [
    "def assert_condition(name, actual, expected):\n",
    "  if type(expected) == type(lambda x: x): # Allow for custom assertions\n",
    "    if expected(actual):\n",
    "      return None\n",
    "    else:\n",
    "      return f'\"{name}\" - Got \"{actual}, which does not satisfy the condition\"'\n",
    "\n",
    "  if actual == expected: # Check for equality\n",
    "    return None\n",
    "  else:\n",
    "    return f'\"{name}\" - Expected: \"{expected}\" but got \"{actual}\"'\n",
    "\n",
    "def test_request(url, params, expected_status_code, expected_content):\n",
    "  response = make_request(url, params)\n",
    "\n",
    "  test_result = [\n",
    "    assert_condition(\"status_code\", response.status_code, expected_status_code),\n",
    "    assert_condition(\"content\", response.content.decode(), expected_content)\n",
    "  ]\n",
    "\n",
    "  return list(filter(lambda x: x != None, test_result)) # Filter out successful tests"
   ]
  },
  {
   "cell_type": "code",
   "execution_count": 131,
   "metadata": {},
   "outputs": [],
   "source": [
    "def perform_tests(tests):\n",
    "  failed_tests = 0\n",
    "  for test_name, test in tests.items():\n",
    "    test_result = test_request(test[\"url\"], test[\"params\"], test[\"expected_status_code\"], test[\"expected_content\"])\n",
    "\n",
    "    if len(test_result) > 0:\n",
    "      print(f'Test \"{test_name}\" failed: {test_result}')\n",
    "      failed_tests += 1\n",
    "    else:\n",
    "      print(f'Test \"{test_name}\" passed!')\n",
    "\n",
    "  if failed_tests > 0:\n",
    "    raise AssertionError(f\"{failed_tests} test(s) failed!\")"
   ]
  },
  {
   "attachments": {},
   "cell_type": "markdown",
   "metadata": {},
   "source": [
    "# Tests"
   ]
  },
  {
   "cell_type": "code",
   "execution_count": 140,
   "metadata": {},
   "outputs": [
    {
     "name": "stdout",
     "output_type": "stream",
     "text": [
      "Test \"home\" passed!\n",
      "Test \"status\" passed!\n",
      "Test \"predict_simple\" passed!\n",
      "Test \"predict_love\" passed!\n",
      "Test \"predict_anger\" passed!\n",
      "Test \"predict_no_input\" passed!\n",
      "Test \"predict_empty_input\" passed!\n",
      "Test \"predict_non_letter_chars\" passed!\n"
     ]
    }
   ],
   "source": [
    "tests = {\n",
    "  \"home\": { # Check the the home route produces the expected content\n",
    "    \"url\": home_url,\n",
    "    \"params\": {},\n",
    "    \"expected_status_code\": 200,\n",
    "    \"expected_content\": \"To predict, provide an input! \\n For example --> http://localhost:8080/api/web-service/predict?input=help\"\n",
    "  },\n",
    "  \"status\": { # Check the status route produces a 200 response\n",
    "    \"url\": status_url,\n",
    "    \"params\": {},\n",
    "    \"expected_status_code\": 200,\n",
    "    \"expected_content\": \"OK\"\n",
    "  },\n",
    "  \"predict_simple\": { # Perform a prediction and just check that the response is not empty\n",
    "    \"url\": status_url,\n",
    "    \"params\": {\"input\": \"hello\"},\n",
    "    \"expected_status_code\": 200,\n",
    "    \"expected_content\": lambda content: len(content) > 0\n",
    "  },\n",
    "  \"predict_love\": { # Perform a prediction and check that the response is \"love\"\n",
    "    \"url\": predict_url,\n",
    "    \"params\": {\"input\": \"I love you\"},\n",
    "    \"expected_status_code\": 200,\n",
    "    \"expected_content\": \"love\"\n",
    "  },\n",
    "  \"predict_anger\": { # Perform a prediction and check that the response is \"anger\"\n",
    "    \"url\": predict_url,\n",
    "    \"params\": {\"input\": \"I hate you\"},\n",
    "    \"expected_status_code\": 200,\n",
    "    \"expected_content\": \"anger\"\n",
    "  },\n",
    "  \"predict_no_input\": { # Check that the correct message is returned when no input field is provided\n",
    "    \"url\": predict_url,\n",
    "    \"params\": {},\n",
    "    \"expected_status_code\": 200,\n",
    "    \"expected_content\": \"Please provide an input! \\n For example --> http://localhost:8080/api/web-service/predict?input=help\"\n",
    "  },\n",
    "  \"predict_empty_input\": { # Check that the correct message is returned when an empty input field is provided\n",
    "    \"url\": predict_url,\n",
    "    \"params\": {\"input\": \"\"},\n",
    "    \"expected_status_code\": 200,\n",
    "    \"expected_content\": \"Please provide an input! \\n For example --> http://localhost:8080/api/web-service/predict?input=help\"\n",
    "  },\n",
    "  \"predict_non_letter_chars\": { # Check that non-letter characters are handled correctly\n",
    "    \"url\": predict_url,\n",
    "    \"params\": {\"input\": \".4@]/\"},\n",
    "    \"expected_status_code\": 200,\n",
    "    \"expected_content\": \"neutral\"\n",
    "  },\n",
    "}\n",
    "\n",
    "perform_tests(tests)"
   ]
  },
  {
   "cell_type": "code",
   "execution_count": 141,
   "metadata": {},
   "outputs": [
    {
     "name": "stdout",
     "output_type": "stream",
     "text": [
      "Test \"predict_simple_new_model\" passed!\n",
      "Test \"predict_love_new_model\" passed!\n",
      "Test \"predict_anger_new_model\" passed!\n",
      "Test \"predict_no_input_new_model\" passed!\n",
      "Test \"predict_empty_input_new_model\" passed!\n",
      "Test \"predict_non_letter_chars_new_model\" passed!\n"
     ]
    }
   ],
   "source": [
    "# ONLY run if new model has been trained, otherwise the default model will be used\n",
    "# and these tests will not be representative of the new model\n",
    "\n",
    "new_model_tests = {\n",
    "  \"predict_simple_new_model\": { # Perform a prediction with the new model and just check that the response is not empty\n",
    "    \"url\": status_url,\n",
    "    \"params\": {\"input\": \"hello\", \"type\": \"new\"},\n",
    "    \"expected_status_code\": 200,\n",
    "    \"expected_content\": lambda content: len(content) > 0\n",
    "  },\n",
    "  \"predict_love_new_model\": { # Perform a prediction with the new model and check that the response is \"love\"\n",
    "    \"url\": predict_url,\n",
    "    \"params\": {\"input\": \"I love you\", \"type\": \"new\"},\n",
    "    \"expected_status_code\": 200,\n",
    "    \"expected_content\": \"love\"\n",
    "  },\n",
    "  \"predict_anger_new_model\": { # Perform a prediction with the new model and check that the response is \"anger\"\n",
    "    \"url\": predict_url,\n",
    "    \"params\": {\"input\": \"I hate you\", \"type\": \"new\"},\n",
    "    \"expected_status_code\": 200,\n",
    "    \"expected_content\": \"anger\"\n",
    "  },\n",
    "  \"predict_no_input_new_model\": { # Check that the correct message is returned when no input field is provided to the new model\n",
    "    \"url\": predict_url,\n",
    "    \"params\": {\"type\": \"new\"},\n",
    "    \"expected_status_code\": 200,\n",
    "    \"expected_content\": \"Please provide an input! \\n For example --> http://localhost:8080/api/web-service/predict?input=help\"\n",
    "  },\n",
    "  \"predict_empty_input_new_model\": { # Check that the correct message is returned when an empty input field is provided to the new model\n",
    "    \"url\": predict_url,\n",
    "    \"params\": {\"input\": \"\", \"type\": \"new\"},\n",
    "    \"expected_status_code\": 200,\n",
    "    \"expected_content\": \"Please provide an input! \\n For example --> http://localhost:8080/api/web-service/predict?input=help\"\n",
    "  },\n",
    "  \"predict_non_letter_chars_new_model\": { # Check that non-letter characters are handled correctly\n",
    "    \"url\": predict_url,\n",
    "    \"params\": {\"input\": \".4@]/\", \"type\": \"new\"},\n",
    "    \"expected_status_code\": 200,\n",
    "    \"expected_content\": \"neutral\"\n",
    "  },\n",
    "}\n",
    "\n",
    "perform_tests(new_model_tests)"
   ]
  }
 ],
 "metadata": {
  "kernelspec": {
   "display_name": "Python 3",
   "language": "python",
   "name": "python3"
  },
  "language_info": {
   "codemirror_mode": {
    "name": "ipython",
    "version": 3
   },
   "file_extension": ".py",
   "mimetype": "text/x-python",
   "name": "python",
   "nbconvert_exporter": "python",
   "pygments_lexer": "ipython3",
   "version": "3.11.3"
  },
  "orig_nbformat": 4
 },
 "nbformat": 4,
 "nbformat_minor": 2
}
